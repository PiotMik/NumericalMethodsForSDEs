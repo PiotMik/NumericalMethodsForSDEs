{
  "nbformat": 4,
  "nbformat_minor": 0,
  "metadata": {
    "colab": {
      "name": "Lab 1.ipynb",
      "provenance": [],
      "collapsed_sections": [],
      "authorship_tag": "ABX9TyP3FrCLapcZa6zBF0mLOeBC",
      "include_colab_link": true
    },
    "kernelspec": {
      "name": "python3",
      "display_name": "Python 3"
    },
    "language_info": {
      "name": "python"
    }
  },
  "cells": [
    {
      "cell_type": "markdown",
      "metadata": {
        "id": "view-in-github",
        "colab_type": "text"
      },
      "source": [
        "<a href=\"https://colab.research.google.com/github/PiotMik/NumericalMethodsForSDEs/blob/main/Lab_1.ipynb\" target=\"_parent\"><img src=\"https://colab.research.google.com/assets/colab-badge.svg\" alt=\"Open In Colab\"/></a>"
      ]
    },
    {
      "cell_type": "code",
      "execution_count": 58,
      "metadata": {
        "id": "LRrNK0C7R2TD"
      },
      "outputs": [],
      "source": [
        "import matplotlib.pyplot as plt\n",
        "import numpy as np\n",
        "import pandas as pd\n",
        "import seaborn as sns\n",
        "from typing import Optional\n",
        "sns.set()\n",
        "plt.rcParams['figure.figsize'] = (10, 5)"
      ]
    },
    {
      "cell_type": "markdown",
      "source": [
        "## Poisson process simulation"
      ],
      "metadata": {
        "id": "2Dl2YohBSE3F"
      }
    },
    {
      "cell_type": "code",
      "source": [
        "def plot_step(jump_moments, jump_sizes, \n",
        "              horizon: Optional[float]=None, is_cadlag = False):\n",
        "  \"\"\"\n",
        "  Plot a step process\n",
        "\n",
        "  Parameters\n",
        "  --------\n",
        "  jump_moments: iterable\n",
        "    Iterable of floats, moments of jumps\n",
        "  jump_sizes: iterable\n",
        "    Iterable of integers, size of jumps\n",
        "  horizon: Optional[float]\n",
        "    Maximal xaxis value\n",
        "  is_cadlag: bool\n",
        "    Whether to use a cadlag markers\n",
        "  \"\"\"\n",
        "  levels = np.array(jump_sizes).cumsum()\n",
        "  jump_moments = np.array(jump_moments)\n",
        "\n",
        "  if jump_moments[0] != 0.0:\n",
        "    levels = np.concatenate([np.array([0]), levels])\n",
        "    jump_moments = np.concatenate([np.array([0]), jump_moments])\n",
        "  if horizon is not None and jump_moments[-1] != horizon:\n",
        "    levels = np.concatenate([levels, np.array([levels[-1]])])\n",
        "    jump_moments = np.concatenate([jump_moments, np.array([horizon])])\n",
        "  \n",
        "  df = pd.DataFrame.from_dict({'t': jump_moments,\n",
        "                               'Nt': levels})\n",
        "  if not is_cadlag:  \n",
        "    df.set_index('t', inplace=True)\n",
        "    df.plot(drawstyle=\"steps-post\")\n",
        "  else:\n",
        "    fig, ax = plt.subplots()\n",
        "    for t_left, t_right, level in zip(df['t'][:-1], df['t'][1:], levels):\n",
        "        ax.hlines(y=level, xmin=t_left, xmax=t_right, color='b')\n",
        "    ax.scatter(x = df.t[:-1], y = df.Nt[:-1], color='b')\n",
        "    ax.scatter(x = df.t[1:-1], y = df.Nt[:-2], facecolors='none', edgecolors='b')\n",
        "  return df  \n",
        "\n",
        "t = [0.3, 0.7, 0.9]\n",
        "jump_sizes = [1, 2, 1]\n",
        "_ = plot_step(jump_moments = t, jump_sizes = jump_sizes,\n",
        "              horizon=1, is_cadlag=True)"
      ],
      "metadata": {
        "colab": {
          "base_uri": "https://localhost:8080/",
          "height": 322
        },
        "id": "C2JrpnJ7SA2g",
        "outputId": "43edd4ce-b08c-4eb3-8d87-a7beea2c295a"
      },
      "execution_count": 63,
      "outputs": [
        {
          "output_type": "display_data",
          "data": {
            "image/png": "[encoded data removed]",
            "text/plain": [
              "<Figure size 720x360 with 1 Axes>"
            ]
          },
          "metadata": {}
        }
      ]
    },
    {
      "cell_type": "code",
      "source": [
        "def generate_poisson_process_v1(T:float, lam: float):\n",
        "  \n",
        "  t = np.random.exponential(scale=1./lam)\n",
        "  ys = [0.0]\n",
        "  xs = [0.0]\n",
        "  while t < T:\n",
        "    xs.append(t)\n",
        "    ys.append(ys[-1] + 1)\n",
        "    t += np.random.exponential(scale=1./lam)\n",
        "  return np.array(xs), np.array(ys)\n",
        "\n",
        "x, y = generate_poisson_process_v1(1, 3)\n",
        "_ = plot_step(x, y, horizon=1, is_cadlag=True)"
      ],
      "metadata": {
        "colab": {
          "base_uri": "https://localhost:8080/",
          "height": 322
        },
        "id": "VpODOx8ZTzXT",
        "outputId": "102b4c7d-043b-456d-c7f9-df0b3e7fc882"
      },
      "execution_count": 67,
      "outputs": [
        {
          "output_type": "display_data",
          "data": {
            "image/png": "[encoded data removed]",
            "text/plain": [
              "<Figure size 720x360 with 1 Axes>"
            ]
          },
          "metadata": {}
        }
      ]
    },
    {
      "cell_type": "code",
      "source": [
        "def generate_poisson_process_v2(T:float, lam: float, N: int):\n",
        "  \n",
        "  dt = T/N\n",
        "  t = dt\n",
        "  ys = [0.0]\n",
        "  xs = [0.0]\n",
        "  while t < T:\n",
        "    n_jumps = np.random.poisson(lam = lam*dt)\n",
        "    xs.append(t)\n",
        "    ys.append(n_jumps)\n",
        "    t += dt\n",
        "  return np.array(xs), np.array(ys)\n",
        "\n",
        "x, y = generate_poisson_process_v2(T = 1, lam = 3, N = 50)\n",
        "_ = plot_step(x, y, horizon=1, is_cadlag=False)"
      ],
      "metadata": {
        "colab": {
          "base_uri": "https://localhost:8080/",
          "height": 339
        },
        "id": "SS_DVbHCaKIC",
        "outputId": "f5e42e79-0874-4a71-a966-1c01a7095e08"
      },
      "execution_count": 94,
      "outputs": [
        {
          "output_type": "display_data",
          "data": {
            "image/png": "[encoded data removed]",
            "text/plain": [
              "<Figure size 720x360 with 1 Axes>"
            ]
          },
          "metadata": {}
        }
      ]
    },
    {
      "cell_type": "code",
      "source": [
        "def generate_poisson_process_v3(T: float, lam: float, N: int):\n",
        "  \n",
        "  dt = T/N\n",
        "  t_min = 0.0\n",
        "  t_max = dt\n",
        "  ys = [0.0]\n",
        "  xs = [0.0]\n",
        "  while t_max + dt < T:\n",
        "    t_max = min(t_max, T)\n",
        "    n_jumps = np.random.poisson(lam = lam*dt)\n",
        "    if n_jumps == 0:\n",
        "      continue\n",
        "    else:\n",
        "      jump_moments = sorted(np.random.uniform(low = t_min, high=t_max, size = n_jumps))\n",
        "      xs += jump_moments\n",
        "      ys += [1]*n_jumps\n",
        "    t_min += dt\n",
        "    t_max += dt\n",
        "  return np.array(xs), np.array(ys)\n",
        "\n",
        "x, y = generate_poisson_process_v3(T = 1, lam = 3, N = 50)\n",
        "_ = plot_step(x, y, horizon=1, is_cadlag=False)"
      ],
      "metadata": {
        "colab": {
          "base_uri": "https://localhost:8080/",
          "height": 339
        },
        "id": "hNcKf7dectC3",
        "outputId": "29c937d5-8921-41a5-db82-07eee21d13c0"
      },
      "execution_count": 95,
      "outputs": [
        {
          "output_type": "display_data",
          "data": {
            "image/png": "[encoded data removed]",
            "text/plain": [
              "<Figure size 720x360 with 1 Axes>"
            ]
          },
          "metadata": {}
        }
      ]
    },
    {
      "cell_type": "code",
      "source": [
        ""
      ],
      "metadata": {
        "id": "CRxFvMIya9LP"
      },
      "execution_count": null,
      "outputs": []
    }
  ]
}