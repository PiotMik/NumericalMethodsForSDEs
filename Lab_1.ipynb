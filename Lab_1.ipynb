{
  "nbformat": 4,
  "nbformat_minor": 0,
  "metadata": {
    "colab": {
      "name": "Lab 1.ipynb",
      "provenance": [],
      "authorship_tag": "ABX9TyPXQU+lNgKo4HSOVIT1v+Bh",
      "include_colab_link": true
    },
    "kernelspec": {
      "name": "python3",
      "display_name": "Python 3"
    },
    "language_info": {
      "name": "python"
    }
  },
  "cells": [
    {
      "cell_type": "markdown",
      "metadata": {
        "id": "view-in-github",
        "colab_type": "text"
      },
      "source": [
        "<a href=\"https://colab.research.google.com/github/PiotMik/NumericalMethodsForSDEs/blob/main/Lab_1.ipynb\" target=\"_parent\"><img src=\"https://colab.research.google.com/assets/colab-badge.svg\" alt=\"Open In Colab\"/></a>"
      ]
    },
    {
      "cell_type": "code",
      "execution_count": 12,
      "metadata": {
        "id": "LRrNK0C7R2TD"
      },
      "outputs": [],
      "source": [
        "import matplotlib.pyplot as plt\n",
        "import numpy as np\n",
        "import pandas as pd\n",
        "import seaborn as sns\n",
        "sns.set()\n",
        "plt.rcParams['figure.figsize'] = (10, 5)"
      ]
    },
    {
      "cell_type": "markdown",
      "source": [
        "## Poisson process simulation"
      ],
      "metadata": {
        "id": "2Dl2YohBSE3F"
      }
    },
    {
      "cell_type": "code",
      "source": [
        "def plot_poisson(jump_moments, jump_sizes, horizon=None, simplified_plot = True):\n",
        "  levels = np.array(jump_sizes).cumsum()\n",
        "  jump_moments = np.array(jump_moments)\n",
        "\n",
        "  if jump_moments[0] != 0.0:\n",
        "    levels = np.concatenate([np.array([0]), levels])\n",
        "    jump_moments = np.concatenate([np.array([0]), jump_moments])\n",
        "  if horizon is not None and jump_moments[-1] != horizon:\n",
        "    levels = np.concatenate([levels, np.array([levels[-1]])])\n",
        "    jump_moments = np.concatenate([jump_moments, np.array([horizon])])\n",
        "  \n",
        "  df = pd.DataFrame.from_dict({'t': jump_moments,\n",
        "                               'Nt': levels})\n",
        "  if simplified_plot:  \n",
        "    df.set_index('t', inplace=True)\n",
        "    df.plot(drawstyle=\"steps-post\")\n",
        "  else:\n",
        "    fig, ax = plt.subplots()\n",
        "    for t_left, t_right, level in zip(df['t'][:-1], df['t'][1:], levels):\n",
        "        ax.hlines(y=level, xmin=t_left, xmax=t_right, color='b')\n",
        "    ax.scatter(x = df.t[:-1], y = df.Nt[:-1], color='b')\n",
        "    ax.scatter(x = df.t[1:-1], y = df.Nt[:-2], facecolors='none', edgecolors='b')\n",
        "  return df  \n",
        "\n",
        "t = [0.3, 0.7, 0.9]\n",
        "jump_sizes = [1, 2, 1]\n",
        "_ = plot_poisson(jump_moments = t, jump_sizes = jump_sizes,\n",
        "                 horizon=1, simplified_plot=False)"
      ],
      "metadata": {
        "colab": {
          "base_uri": "https://localhost:8080/",
          "height": 322
        },
        "id": "C2JrpnJ7SA2g",
        "outputId": "89bc3b2b-547b-4b9b-8e1f-6b917dab1985"
      },
      "execution_count": 57,
      "outputs": [
        {
          "output_type": "display_data",
          "data": {
            "image/png": "[encoded data removed]",
            "text/plain": [
              "<Figure size 720x360 with 1 Axes>"
            ]
          },
          "metadata": {}
        }
      ]
    },
    {
      "cell_type": "code",
      "source": [
        "np.concatenate([np.array([0]), np.array(t)])"
      ],
      "metadata": {
        "colab": {
          "base_uri": "https://localhost:8080/"
        },
        "id": "VpODOx8ZTzXT",
        "outputId": "60eeec2e-a3c6-4c2c-82a2-387539039135"
      },
      "execution_count": 18,
      "outputs": [
        {
          "output_type": "execute_result",
          "data": {
            "text/plain": [
              "array([0. , 0.3, 0.7, 0.9])"
            ]
          },
          "metadata": {},
          "execution_count": 18
        }
      ]
    }
  ]
}