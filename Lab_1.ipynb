{
  "nbformat": 4,
  "nbformat_minor": 0,
  "metadata": {
    "colab": {
      "name": "Lab 1.ipynb",
      "provenance": [],
      "collapsed_sections": [],
      "authorship_tag": "ABX9TyN75SF2ig3mvQObb3aWuceU",
      "include_colab_link": true
    },
    "kernelspec": {
      "name": "python3",
      "display_name": "Python 3"
    },
    "language_info": {
      "name": "python"
    }
  },
  "cells": [
    {
      "cell_type": "markdown",
      "metadata": {
        "id": "view-in-github",
        "colab_type": "text"
      },
      "source": [
        "<a href=\"https://colab.research.google.com/github/PiotMik/NumericalMethodsForSDEs/blob/main/Lab_1.ipynb\" target=\"_parent\"><img src=\"https://colab.research.google.com/assets/colab-badge.svg\" alt=\"Open In Colab\"/></a>"
      ]
    },
    {
      "cell_type": "code",
      "execution_count": 58,
      "metadata": {
        "id": "LRrNK0C7R2TD"
      },
      "outputs": [],
      "source": [
        "import matplotlib.pyplot as plt\n",
        "import numpy as np\n",
        "import pandas as pd\n",
        "import seaborn as sns\n",
        "from typing import Optional\n",
        "sns.set()\n",
        "plt.rcParams['figure.figsize'] = (10, 5)"
      ]
    },
    {
      "cell_type": "markdown",
      "source": [
        "## Poisson process simulation"
      ],
      "metadata": {
        "id": "2Dl2YohBSE3F"
      }
    },
    {
      "cell_type": "code",
      "source": [
        "def plot_step(jump_moments, jump_sizes, \n",
        "              horizon: Optional[float]=None, is_cadlag = False):\n",
        "  \"\"\"\n",
        "  Plot a step process\n",
        "\n",
        "  Parameters\n",
        "  --------\n",
        "  jump_moments: iterable\n",
        "    Iterable of floats, moments of jumps\n",
        "  jump_sizes: iterable\n",
        "    Iterable of integers, size of jumps\n",
        "  horizon: Optional[float]\n",
        "    Maximal xaxis value\n",
        "  is_cadlag: bool\n",
        "    Whether to use a cadlag markers\n",
        "  \"\"\"\n",
        "  levels = np.array(jump_sizes).cumsum()\n",
        "  jump_moments = np.array(jump_moments)\n",
        "\n",
        "  if jump_moments[0] != 0.0:\n",
        "    levels = np.concatenate([np.array([0]), levels])\n",
        "    jump_moments = np.concatenate([np.array([0]), jump_moments])\n",
        "  if horizon is not None and jump_moments[-1] != horizon:\n",
        "    levels = np.concatenate([levels, np.array([levels[-1]])])\n",
        "    jump_moments = np.concatenate([jump_moments, np.array([horizon])])\n",
        "  \n",
        "  df = pd.DataFrame.from_dict({'t': jump_moments,\n",
        "                               'Nt': levels})\n",
        "  if not is_cadlag:  \n",
        "    df.set_index('t', inplace=True)\n",
        "    df.plot(drawstyle=\"steps-post\")\n",
        "  else:\n",
        "    fig, ax = plt.subplots()\n",
        "    for t_left, t_right, level in zip(df['t'][:-1], df['t'][1:], levels):\n",
        "        ax.hlines(y=level, xmin=t_left, xmax=t_right, color='b')\n",
        "    ax.scatter(x = df.t[:-1], y = df.Nt[:-1], color='b')\n",
        "    ax.scatter(x = df.t[1:-1], y = df.Nt[:-2], facecolors='none', edgecolors='b')\n",
        "  return df  \n",
        "\n",
        "t = [0.3, 0.7, 0.9]\n",
        "jump_sizes = [1, 2, 1]\n",
        "_ = plot_step(jump_moments = t, jump_sizes = jump_sizes,\n",
        "              horizon=1, is_cadlag=True)"
      ],
      "metadata": {
        "colab": {
          "base_uri": "https://localhost:8080/",
          "height": 322
        },
        "id": "C2JrpnJ7SA2g",
        "outputId": "43edd4ce-b08c-4eb3-8d87-a7beea2c295a"
      },
      "execution_count": 63,
      "outputs": [
        {
          "output_type": "display_data",
          "data": {
            "image/png": "[encoded data removed]",
            "text/plain": [
              "<Figure size 720x360 with 1 Axes>"
            ]
          },
          "metadata": {}
        }
      ]
    },
    {
      "cell_type": "code",
      "source": [
        "def generate_poisson_process_v1(T:float, lam: float):\n",
        "  \"\"\"\n",
        "  Generate Poisson Process by:\n",
        "    1) simulating waiting times for the next jump\n",
        "    2) performing a jump of size 1\n",
        "  \n",
        "  Parameters\n",
        "  --------\n",
        "  T: float\n",
        "    Time horizon for the simulation\n",
        "  lam: float\n",
        "    Intensity of the Poisson process\n",
        "  \n",
        "  Returns\n",
        "  --------\n",
        "  xs, dys\n",
        "    Jump moments, and jump sizes (always a 1)\n",
        "  \"\"\"\n",
        "  t = np.random.exponential(scale=1./lam)\n",
        "  dys = [0.0]\n",
        "  xs = [0.0]\n",
        "  while t < T:\n",
        "    xs.append(t)\n",
        "    dys.append(1)\n",
        "    t += np.random.exponential(scale=1./lam)\n",
        "  \n",
        "  xs, dys = np.array(xs), np.array(dys)\n",
        "  return xs, dys\n",
        "\n",
        "x, dy = generate_poisson_process_v1(1, 3)\n",
        "_ = plot_step(x, dy, horizon=1, is_cadlag=True)"
      ],
      "metadata": {
        "colab": {
          "base_uri": "https://localhost:8080/",
          "height": 322
        },
        "id": "VpODOx8ZTzXT",
        "outputId": "f5401b8f-211c-432e-9d96-94b954dcfa5e"
      },
      "execution_count": 115,
      "outputs": [
        {
          "output_type": "display_data",
          "data": {
            "image/png": "[encoded data removed]",
            "text/plain": [
              "<Figure size 720x360 with 1 Axes>"
            ]
          },
          "metadata": {}
        }
      ]
    },
    {
      "cell_type": "code",
      "source": [
        "def generate_poisson_process_v2(T:float, lam: float, N: int):\n",
        "  \"\"\"\n",
        "  Generate Poisson Process by:\n",
        "    1) time axis discretization\n",
        "    2) simulating number of jumps for each time interval\n",
        "    3) performing a jump of that size (no separate jumps inside that interval)\n",
        "  \n",
        "  Parameters\n",
        "  --------\n",
        "  T: float\n",
        "    Time horizon for the simulation\n",
        "  lam: float\n",
        "    Intensity of the Poisson process\n",
        "  N: int\n",
        "    Number of discretization steps\n",
        "  \n",
        "  Returns\n",
        "  --------\n",
        "  xs, dys\n",
        "    Jump moments, and jump sizes\n",
        "  \"\"\"\n",
        "  dt = T/N\n",
        "  t = dt\n",
        "  dys = [0.0]\n",
        "  xs = [0.0]\n",
        "  while t < T:\n",
        "    n_jumps = np.random.poisson(lam = lam*dt)\n",
        "    xs.append(t)\n",
        "    dys.append(n_jumps)\n",
        "    t += dt\n",
        "  xs, dys = np.array(xs), np.array(dys)\n",
        "  return xs, dys\n",
        "\n",
        "x, dy = generate_poisson_process_v2(T = 1, lam = 3, N = 50)\n",
        "_ = plot_step(x, dy, horizon=1, is_cadlag=False)"
      ],
      "metadata": {
        "colab": {
          "base_uri": "https://localhost:8080/",
          "height": 339
        },
        "id": "SS_DVbHCaKIC",
        "outputId": "4db911db-99e6-401c-b860-cb8ecf8bce9b"
      },
      "execution_count": 117,
      "outputs": [
        {
          "output_type": "display_data",
          "data": {
            "image/png": "[encoded data removed]",
            "text/plain": [
              "<Figure size 720x360 with 1 Axes>"
            ]
          },
          "metadata": {}
        }
      ]
    },
    {
      "cell_type": "code",
      "source": [
        "def generate_poisson_process_v3(T: float, lam: float, N: int):\n",
        "  \"\"\"\n",
        "  Generate Poisson Process by\n",
        "    1) time axis discretization.\n",
        "    2) simulating number of jumps for each time interval\n",
        "    3) simulating that number of jump moments inside the interval\n",
        "  \n",
        "  Parameters\n",
        "  --------\n",
        "  T: float\n",
        "    Time horizon for the simulation\n",
        "  lam: float\n",
        "    Intensity of the Poisson process\n",
        "  N: int\n",
        "    Number of discretization steps\n",
        "  \n",
        "  Returns\n",
        "  --------\n",
        "  xs, dys\n",
        "    Jump moments, and jump sizes (here, an array of ones)\n",
        "  \"\"\"\n",
        "  dt = T/N\n",
        "  t_min = 0.0\n",
        "  t_max = dt\n",
        "  dys = [0.0]\n",
        "  xs = [0.0]\n",
        "  while t_max + dt < T:\n",
        "    # iterating over [t_min, t_max] intervals\n",
        "    t_max = min(t_max, T)\n",
        "    n_jumps = np.random.poisson(lam = lam*(t_max - t_min))\n",
        "    if n_jumps == 0:\n",
        "      t_min += dt\n",
        "      t_max += dt\n",
        "      continue\n",
        "    else:\n",
        "      jump_moments = sorted(np.random.uniform(low = t_min, high=t_max, size = n_jumps))\n",
        "      xs += jump_moments\n",
        "      dys += [1]*n_jumps\n",
        "    t_min += dt\n",
        "    t_max += dt\n",
        "  \n",
        "  xs, dys = np.array(xs), np.array(dys)\n",
        "  return xs, dys\n",
        "\n",
        "x, dy = generate_poisson_process_v3(T = 1, lam = 3, N = 50)\n",
        "_ = plot_step(x, dy, horizon=1, is_cadlag=True)"
      ],
      "metadata": {
        "colab": {
          "base_uri": "https://localhost:8080/",
          "height": 322
        },
        "id": "hNcKf7dectC3",
        "outputId": "f7ff2b25-54a8-4f34-cee1-fd641f53fd77"
      },
      "execution_count": 104,
      "outputs": [
        {
          "output_type": "display_data",
          "data": {
            "image/png": "[encoded data removed]",
            "text/plain": [
              "<Figure size 720x360 with 1 Axes>"
            ]
          },
          "metadata": {}
        }
      ]
    },
    {
      "cell_type": "code",
      "source": [
        "def generate_poisson_process_v4(T: float, lam: float):\n",
        "  \"\"\"\n",
        "  Generate Poisson Process by\n",
        "    1) simulating number of jumps for the whole process\n",
        "    2) simulating their occurence times\n",
        "\n",
        "  Parameters\n",
        "  --------\n",
        "  T: float\n",
        "    Time horizon for the simulation\n",
        "  lam: float\n",
        "    Intensity of the Poisson process\n",
        "  \n",
        "  Returns\n",
        "  --------\n",
        "  xs, dys\n",
        "    Jump moments, and jump sizes (here, an array of ones)\n",
        "  \"\"\"\n",
        "  n_jumps = np.random.poisson(T*lam)\n",
        "  jump_moments = np.random.uniform(low = 0.0, high = T, size=n_jumps)\n",
        "\n",
        "  xs = [0] + sorted(jump_moments)\n",
        "  dys = [0] + [1]*n_jumps\n",
        "\n",
        "  xs, dys = np.array(xs), np.array(dys) \n",
        "  return xs, dys\n",
        "x, dy = generate_poisson_process_v4(T = 1, lam = 3)\n",
        "_ = plot_step(x, dy, horizon=1, is_cadlag=True)"
      ],
      "metadata": {
        "colab": {
          "base_uri": "https://localhost:8080/",
          "height": 322
        },
        "id": "CRxFvMIya9LP",
        "outputId": "0d423276-9c62-4daa-db9d-91b6235f1167"
      },
      "execution_count": 118,
      "outputs": [
        {
          "output_type": "display_data",
          "data": {
            "image/png": "[encoded data removed]",
            "text/plain": [
              "<Figure size 720x360 with 1 Axes>"
            ]
          },
          "metadata": {}
        }
      ]
    }
  ]
}